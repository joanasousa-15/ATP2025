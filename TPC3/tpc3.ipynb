{
 "cells": [
  {
   "cell_type": "code",
   "execution_count": null,
   "id": "a5531300",
   "metadata": {},
   "outputs": [
    {
     "name": "stdout",
     "output_type": "stream",
     "text": [
      "O jogo consiste em a pessoa adivinhar o número que o computador está a pensar e dizer em quantas tentativas tal se sucedeu, e vice-versa.\n",
      " Apenas podes responder às perguntas do computador com maior, menor ou certo.\n",
      "O número pensado é 60 e o computador advinhou o número em 6 tentativas\n"
     ]
    }
   ],
   "source": [
    "import random\n",
    "\n",
    "#intervalo de números\n",
    "sup = 100\n",
    "inf = 0\n",
    "\n",
    "#número adivinhado\n",
    "x = 0\n",
    "\n",
    "#número de tentativas\n",
    "n = 0\n",
    "t = 0\n",
    "\n",
    "print(\"O jogo consiste em a pessoa adivinhar o número que o computador está a pensar e dizer em quantas tentativas tal se sucedeu, e vice-versa.\")\n",
    "print(\" Apenas podes responder às perguntas do computador com maior, menor ou certo.\")\n",
    "ordem=input(\"Pretende: 1-pensar no número ou 2-adivinhar?\")\n",
    "\n",
    "if ordem== \"pensar\" or ordem== \"1\":\n",
    "   \n",
    "    pergunta= str()\n",
    "    certo= \"certo\"\n",
    "    while pergunta!= certo:\n",
    "        n+=1\n",
    "        x= int((sup+inf) / 2)\n",
    "        pergunta= input(\"O seu número é \" + str(x) + \"?\")\n",
    "        \n",
    "        if pergunta == \"maior\":\n",
    "            inf = x\n",
    "        else:\n",
    "            sup = x\n",
    "\n",
    "    print(\"O número pensado é \" + str (x) + \" e o computador advinhou o número em \" + str(n) + \" tentativas\")    \n",
    "\n",
    "elif ordem== \"adivinhar\" or ordem== \"2\":\n",
    "\n",
    "    r= random.randint(1,100)\n",
    "    t+=1\n",
    "    x= int(input(\"Digite o número pensado.\"))\n",
    "\n",
    "    while r!=x:\n",
    "        t+=1\n",
    "        if r>x:\n",
    "            print(\"maior\")\n",
    "\n",
    "        else:\n",
    "            print(\"menor\")\n",
    "        x =  int(input(\"Diga um número\"))\n",
    "    print(\"O número pensado é \" + str (x) + \" e adivinhaste o número em \" + str(t) + \" tentativas\")        \n"
   ]
  }
 ],
 "metadata": {
  "kernelspec": {
   "display_name": "Python 3",
   "language": "python",
   "name": "python3"
  },
  "language_info": {
   "codemirror_mode": {
    "name": "ipython",
    "version": 3
   },
   "file_extension": ".py",
   "mimetype": "text/x-python",
   "name": "python",
   "nbconvert_exporter": "python",
   "pygments_lexer": "ipython3",
   "version": "3.13.7"
  }
 },
 "nbformat": 4,
 "nbformat_minor": 5
}
